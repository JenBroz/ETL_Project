{
 "cells": [
  {
   "cell_type": "code",
   "execution_count": 2,
   "metadata": {},
   "outputs": [],
   "source": [
    "import matplotlib.pyplot as plt\n",
    "import pandas as pd\n",
    "import numpy as np\n",
    "import requests\n",
    "import gmaps\n",
    "import os\n",
    "\n",
    "# Import API key\n",
    "from api_keys import g_key"
   ]
  },
  {
   "cell_type": "code",
   "execution_count": 4,
   "metadata": {},
   "outputs": [
    {
     "data": {
      "text/html": [
       "<div>\n",
       "<style scoped>\n",
       "    .dataframe tbody tr th:only-of-type {\n",
       "        vertical-align: middle;\n",
       "    }\n",
       "\n",
       "    .dataframe tbody tr th {\n",
       "        vertical-align: top;\n",
       "    }\n",
       "\n",
       "    .dataframe thead th {\n",
       "        text-align: right;\n",
       "    }\n",
       "</style>\n",
       "<table border=\"1\" class=\"dataframe\">\n",
       "  <thead>\n",
       "    <tr style=\"text-align: right;\">\n",
       "      <th></th>\n",
       "      <th>Type</th>\n",
       "      <th>Address</th>\n",
       "      <th>Price</th>\n",
       "      <th>Street Address</th>\n",
       "      <th>City</th>\n",
       "      <th>State</th>\n",
       "      <th>Zip Code</th>\n",
       "      <th>Sq. Feet</th>\n",
       "      <th>Href</th>\n",
       "    </tr>\n",
       "  </thead>\n",
       "  <tbody>\n",
       "    <tr>\n",
       "      <th>0</th>\n",
       "      <td>Coming soon</td>\n",
       "      <td>17434 E Dewberry Cir, Parker, CO 80134</td>\n",
       "      <td>$550,000</td>\n",
       "      <td>17434 E Dewberry Cir</td>\n",
       "      <td>Parker</td>\n",
       "      <td>CO</td>\n",
       "      <td>80134</td>\n",
       "      <td>3,486</td>\n",
       "      <td>https://www.zillow.com/homedetails/17434-E-Dew...</td>\n",
       "    </tr>\n",
       "    <tr>\n",
       "      <th>1</th>\n",
       "      <td>House for sale</td>\n",
       "      <td>20272 Terrace View Dr, Parker, CO 80134</td>\n",
       "      <td>$710,000</td>\n",
       "      <td>20272 Terrace View Dr</td>\n",
       "      <td>Parker</td>\n",
       "      <td>CO</td>\n",
       "      <td>80134</td>\n",
       "      <td>4,677</td>\n",
       "      <td>https://www.zillow.com/homedetails/20272-Terra...</td>\n",
       "    </tr>\n",
       "    <tr>\n",
       "      <th>2</th>\n",
       "      <td>House for sale</td>\n",
       "      <td>15695 E Indian Brook Cir, Parker, CO 80134</td>\n",
       "      <td>$515,000</td>\n",
       "      <td>15695 E Indian Brook Cir</td>\n",
       "      <td>Parker</td>\n",
       "      <td>CO</td>\n",
       "      <td>80134</td>\n",
       "      <td>3,590</td>\n",
       "      <td>https://www.zillow.com/homedetails/15695-E-Ind...</td>\n",
       "    </tr>\n",
       "    <tr>\n",
       "      <th>3</th>\n",
       "      <td>New construction</td>\n",
       "      <td>17862 Marsh Wren Ave # Zh5ih, Parker, CO 80134</td>\n",
       "      <td>$457,990</td>\n",
       "      <td>17862 Marsh Wren Ave # ZH5IH</td>\n",
       "      <td>Parker</td>\n",
       "      <td>CO</td>\n",
       "      <td>80134</td>\n",
       "      <td>1,819</td>\n",
       "      <td>https://www.zillow.com/community/meadowlark/20...</td>\n",
       "    </tr>\n",
       "    <tr>\n",
       "      <th>4</th>\n",
       "      <td>Condo for sale</td>\n",
       "      <td>16687 Las Ramblas Ln Unit F, Parker, CO 80134</td>\n",
       "      <td>$342,000</td>\n",
       "      <td>16687 Las Ramblas Ln Unit F</td>\n",
       "      <td>Parker</td>\n",
       "      <td>CO</td>\n",
       "      <td>80134</td>\n",
       "      <td>1,529</td>\n",
       "      <td>https://www.zillow.com/homedetails/16687-Las-R...</td>\n",
       "    </tr>\n",
       "  </tbody>\n",
       "</table>\n",
       "</div>"
      ],
      "text/plain": [
       "               Type                                         Address  \\\n",
       "0       Coming soon          17434 E Dewberry Cir, Parker, CO 80134   \n",
       "1    House for sale         20272 Terrace View Dr, Parker, CO 80134   \n",
       "2    House for sale      15695 E Indian Brook Cir, Parker, CO 80134   \n",
       "3  New construction  17862 Marsh Wren Ave # Zh5ih, Parker, CO 80134   \n",
       "4    Condo for sale   16687 Las Ramblas Ln Unit F, Parker, CO 80134   \n",
       "\n",
       "       Price                Street Address    City State  Zip Code Sq. Feet  \\\n",
       "0  $550,000          17434 E Dewberry Cir   Parker    CO     80134    3,486   \n",
       "1  $710,000         20272 Terrace View Dr   Parker    CO     80134    4,677   \n",
       "2  $515,000      15695 E Indian Brook Cir   Parker    CO     80134    3,590   \n",
       "3  $457,990   17862 Marsh Wren Ave # ZH5IH  Parker    CO     80134    1,819   \n",
       "4  $342,000    16687 Las Ramblas Ln Unit F  Parker    CO     80134    1,529   \n",
       "\n",
       "                                                Href  \n",
       "0  https://www.zillow.com/homedetails/17434-E-Dew...  \n",
       "1  https://www.zillow.com/homedetails/20272-Terra...  \n",
       "2  https://www.zillow.com/homedetails/15695-E-Ind...  \n",
       "3  https://www.zillow.com/community/meadowlark/20...  \n",
       "4  https://www.zillow.com/homedetails/16687-Las-R...  "
      ]
     },
     "execution_count": 4,
     "metadata": {},
     "output_type": "execute_result"
    }
   ],
   "source": [
    "csv_path = '../Data/ForSale.csv'\n",
    "\n",
    "co_homes = pd.read_csv(csv_path)\n",
    "# Vacation_df=Vacation_df.drop(columns=['Unnamed: 0'])\n",
    "# Vacation_df\n",
    "co_homes.head()\n"
   ]
  },
  {
   "cell_type": "code",
   "execution_count": 37,
   "metadata": {},
   "outputs": [
    {
     "data": {
      "text/plain": [
       "{'results': [{'address_components': [{'long_name': '17434',\n",
       "     'short_name': '17434',\n",
       "     'types': ['street_number']},\n",
       "    {'long_name': 'East Dewberry Circle',\n",
       "     'short_name': 'E Dewberry Cir',\n",
       "     'types': ['route']},\n",
       "    {'long_name': 'Parker',\n",
       "     'short_name': 'Parker',\n",
       "     'types': ['locality', 'political']},\n",
       "    {'long_name': 'Douglas County',\n",
       "     'short_name': 'Douglas County',\n",
       "     'types': ['administrative_area_level_2', 'political']},\n",
       "    {'long_name': 'Colorado',\n",
       "     'short_name': 'CO',\n",
       "     'types': ['administrative_area_level_1', 'political']},\n",
       "    {'long_name': 'United States',\n",
       "     'short_name': 'US',\n",
       "     'types': ['country', 'political']},\n",
       "    {'long_name': '80134', 'short_name': '80134', 'types': ['postal_code']},\n",
       "    {'long_name': '8833',\n",
       "     'short_name': '8833',\n",
       "     'types': ['postal_code_suffix']}],\n",
       "   'formatted_address': '17434 E Dewberry Cir, Parker, CO 80134, USA',\n",
       "   'geometry': {'bounds': {'northeast': {'lat': 39.5435396,\n",
       "      'lng': -104.7870898},\n",
       "     'southwest': {'lat': 39.5433503, 'lng': -104.7872647}},\n",
       "    'location': {'lat': 39.5434821, 'lng': -104.787146},\n",
       "    'location_type': 'ROOFTOP',\n",
       "    'viewport': {'northeast': {'lat': 39.54479393029149,\n",
       "      'lng': -104.7858282697085},\n",
       "     'southwest': {'lat': 39.54209596970849, 'lng': -104.7885262302915}}},\n",
       "   'place_id': 'ChIJt0RqdUiObIcR1EU0wT8Mhy8',\n",
       "   'types': ['premise']}],\n",
       " 'status': 'OK'}"
      ]
     },
     "execution_count": 37,
     "metadata": {},
     "output_type": "execute_result"
    }
   ],
   "source": [
    "# request_url= (f'https://maps.googleapis.com/maps/api/geocode/json?{parameters}')\n",
    "\n",
    "test_request = (f'https://maps.googleapis.com/maps/api/geocode/json?address=17434 E Dewberry Cir&key={g_key}')\n",
    "response= requests.get(test_request).json()\n",
    "response"
   ]
  },
  {
   "cell_type": "code",
   "execution_count": 40,
   "metadata": {},
   "outputs": [
    {
     "name": "stdout",
     "output_type": "stream",
     "text": [
      "-104.787146\n"
     ]
    }
   ],
   "source": [
    "print(response['results'][0]['geometry']['location']['lng'])"
   ]
  },
  {
   "cell_type": "code",
   "execution_count": 52,
   "metadata": {},
   "outputs": [],
   "source": [
    "# SA = co_homes['Street Address']\n",
    "SA = []\n",
    "for x in co_homes['Street Address']:\n",
    "    SA.append(x)\n",
    "                  "
   ]
  },
  {
   "cell_type": "code",
   "execution_count": 57,
   "metadata": {},
   "outputs": [
    {
     "ename": "TypeError",
     "evalue": "'list' object is not callable",
     "output_type": "error",
     "traceback": [
      "\u001b[1;31m---------------------------------------------------------------------------\u001b[0m",
      "\u001b[1;31mTypeError\u001b[0m                                 Traceback (most recent call last)",
      "\u001b[1;32m<ipython-input-57-6976de43193d>\u001b[0m in \u001b[0;36m<module>\u001b[1;34m\u001b[0m\n\u001b[1;32m----> 1\u001b[1;33m \u001b[0mprint\u001b[0m\u001b[1;33m(\u001b[0m\u001b[0mSA\u001b[0m\u001b[1;33m(\u001b[0m\u001b[0mrange\u001b[0m\u001b[1;33m(\u001b[0m\u001b[1;36m5\u001b[0m\u001b[1;33m)\u001b[0m\u001b[1;33m)\u001b[0m\u001b[1;33m)\u001b[0m\u001b[1;33m\u001b[0m\u001b[1;33m\u001b[0m\u001b[0m\n\u001b[0m",
      "\u001b[1;31mTypeError\u001b[0m: 'list' object is not callable"
     ]
    }
   ],
   "source": [
    "print(SA(range(5)))"
   ]
  },
  {
   "cell_type": "code",
   "execution_count": 38,
   "metadata": {},
   "outputs": [
    {
     "ename": "NameError",
     "evalue": "name 'Lat' is not defined",
     "output_type": "error",
     "traceback": [
      "\u001b[1;31m---------------------------------------------------------------------------\u001b[0m",
      "\u001b[1;31mNameError\u001b[0m                                 Traceback (most recent call last)",
      "\u001b[1;32m<ipython-input-38-7898cd49e368>\u001b[0m in \u001b[0;36m<module>\u001b[1;34m\u001b[0m\n\u001b[0;32m      3\u001b[0m \u001b[0mlat\u001b[0m\u001b[1;33m=\u001b[0m\u001b[1;33m[\u001b[0m\u001b[1;33m]\u001b[0m\u001b[1;33m\u001b[0m\u001b[1;33m\u001b[0m\u001b[0m\n\u001b[0;32m      4\u001b[0m \u001b[0mlng\u001b[0m\u001b[1;33m=\u001b[0m\u001b[1;33m[\u001b[0m\u001b[1;33m]\u001b[0m\u001b[1;33m\u001b[0m\u001b[1;33m\u001b[0m\u001b[0m\n\u001b[1;32m----> 5\u001b[1;33m \u001b[0mLat\u001b[0m\u001b[1;33m.\u001b[0m\u001b[0mappend\u001b[0m\u001b[1;33m(\u001b[0m\u001b[0mresponse\u001b[0m\u001b[1;33m[\u001b[0m\u001b[1;34m'results'\u001b[0m\u001b[1;33m]\u001b[0m\u001b[1;33m[\u001b[0m\u001b[1;36m0\u001b[0m\u001b[1;33m]\u001b[0m\u001b[1;33m[\u001b[0m\u001b[1;34m'geometry'\u001b[0m\u001b[1;33m]\u001b[0m\u001b[1;33m[\u001b[0m\u001b[1;34m'location'\u001b[0m\u001b[1;33m]\u001b[0m\u001b[1;33m[\u001b[0m\u001b[1;34m'lat'\u001b[0m\u001b[1;33m]\u001b[0m\u001b[1;33m)\u001b[0m\u001b[1;33m\u001b[0m\u001b[1;33m\u001b[0m\u001b[0m\n\u001b[0m\u001b[0;32m      6\u001b[0m \u001b[0mlng\u001b[0m\u001b[1;33m.\u001b[0m\u001b[0mappend\u001b[0m\u001b[1;33m(\u001b[0m\u001b[0mresponse\u001b[0m\u001b[1;33m[\u001b[0m\u001b[1;34m'results'\u001b[0m\u001b[1;33m]\u001b[0m\u001b[1;33m[\u001b[0m\u001b[1;36m0\u001b[0m\u001b[1;33m]\u001b[0m\u001b[1;33m[\u001b[0m\u001b[1;34m'geometry'\u001b[0m\u001b[1;33m]\u001b[0m\u001b[1;33m[\u001b[0m\u001b[1;34m'location'\u001b[0m\u001b[1;33m]\u001b[0m\u001b[1;33m[\u001b[0m\u001b[1;34m'lng'\u001b[0m\u001b[1;33m]\u001b[0m\u001b[1;33m)\u001b[0m\u001b[1;33m\u001b[0m\u001b[1;33m\u001b[0m\u001b[0m\n",
      "\u001b[1;31mNameError\u001b[0m: name 'Lat' is not defined"
     ]
    }
   ],
   "source": [
    "# lat.append(response['coord']['lat'])\n",
    "# lng.append(response['coord']['lon'])\n",
    "lat=[]\n",
    "lng=[]\n",
    "street=[]\n",
    "count=1\n",
    "\n",
    "for address in SA:\n",
    "    try:\n",
    "        request = (f'https://maps.googleapis.com/maps/api/geocode/json?{address}&key={g_key}')\n",
    "        response= requests.get(request).json()\n",
    "        print(f'retrieving result {count} from: {address}')\n",
    "        lat.append(response['results'][0]['geometry']['location']['lat'])\n",
    "        lng.append(response['results'][0]['geometry']['location']['lng'])\n",
    "        street.append(address)\n",
    "        count == 1\n",
    "    except:\n",
    "        print('error retrieving coordinates skipping')\n",
    "        count == 1\n",
    "    print('complete')"
   ]
  },
  {
   "cell_type": "code",
   "execution_count": null,
   "metadata": {},
   "outputs": [],
   "source": []
  }
 ],
 "metadata": {
  "kernelspec": {
   "display_name": "Python 3",
   "language": "python",
   "name": "python3"
  },
  "language_info": {
   "codemirror_mode": {
    "name": "ipython",
    "version": 3
   },
   "file_extension": ".py",
   "mimetype": "text/x-python",
   "name": "python",
   "nbconvert_exporter": "python",
   "pygments_lexer": "ipython3",
   "version": "3.7.6"
  }
 },
 "nbformat": 4,
 "nbformat_minor": 4
}
